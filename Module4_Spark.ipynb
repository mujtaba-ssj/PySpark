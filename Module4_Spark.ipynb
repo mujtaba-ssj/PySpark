{
  "nbformat": 4,
  "nbformat_minor": 0,
  "metadata": {
    "colab": {
      "name": "Module4_Spark.ipynb",
      "provenance": [],
      "collapsed_sections": [],
      "authorship_tag": "ABX9TyOaFIEmrECdIwcxVowitJj3",
      "include_colab_link": true
    },
    "kernelspec": {
      "name": "python3",
      "display_name": "Python 3"
    },
    "language_info": {
      "name": "python"
    }
  },
  "cells": [
    {
      "cell_type": "markdown",
      "metadata": {
        "id": "view-in-github",
        "colab_type": "text"
      },
      "source": [
        "<a href=\"https://colab.research.google.com/github/mujtaba-ssj/PySpark/blob/main/Module4_Spark.ipynb\" target=\"_parent\"><img src=\"https://colab.research.google.com/assets/colab-badge.svg\" alt=\"Open In Colab\"/></a>"
      ]
    },
    {
      "cell_type": "code",
      "execution_count": 1,
      "metadata": {
        "id": "WcvoYv1-Z4tS"
      },
      "outputs": [],
      "source": [
        "#LOADING FILES\n",
        "\n",
        "# innstall java\n",
        "!apt-get install openjdk-8-jdk-headless -qq > /dev/null\n",
        "\n",
        "# install spark (change the version number if needed)\n",
        "!wget -q https://archive.apache.org/dist/spark/spark-3.0.0/spark-3.0.0-bin-hadoop3.2.tgz\n",
        "\n",
        "# unzip the spark file to the current folder\n",
        "!tar xf spark-3.0.0-bin-hadoop3.2.tgz\n",
        "\n",
        "# set your spark folder to your system path environment. \n",
        "import os\n",
        "os.environ[\"JAVA_HOME\"] = \"/usr/lib/jvm/java-8-openjdk-amd64\"\n",
        "os.environ[\"SPARK_HOME\"] = \"/content/spark-3.0.0-bin-hadoop3.2\"\n",
        "\n",
        "# install findspark using pip\n",
        "!pip install -q findspark"
      ]
    },
    {
      "cell_type": "code",
      "source": [
        "import findspark\n",
        "findspark.init()\n",
        "from pyspark.sql import SparkSession\n",
        "spark = SparkSession.builder.master(\"local[*]\").getOrCreate()"
      ],
      "metadata": {
        "id": "42pPY7GPaYWE"
      },
      "execution_count": 2,
      "outputs": []
    },
    {
      "cell_type": "code",
      "source": [
        "#library\n",
        "from pyspark.ml.feature import VectorAssembler\n",
        "from pyspark.ml.regression import LinearRegression\n",
        "from pyspark.ml.feature import VectorAssembler, StandardScaler, PCA\n",
        "import numpy as np\n",
        "import pandas as pd\n",
        "import matplotlib.pyplot as plt"
      ],
      "metadata": {
        "id": "MiC_dzNOadys"
      },
      "execution_count": 3,
      "outputs": []
    },
    {
      "cell_type": "code",
      "source": [
        "#upload data to directory\n",
        "from google.colab import files\n",
        "upload = files.upload()"
      ],
      "metadata": {
        "colab": {
          "resources": {
            "http://localhost:8080/nbextensions/google.colab/files.js": {
              "data": "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",
              "ok": true,
              "headers": [
                [
                  "content-type",
                  "application/javascript"
                ]
              ],
              "status": 200,
              "status_text": ""
            }
          },
          "base_uri": "https://localhost:8080/",
          "height": 73
        },
        "id": "2OcAgB0AahJa",
        "outputId": "12599d34-cad2-482c-adb8-f42be3ed98bb"
      },
      "execution_count": 4,
      "outputs": [
        {
          "output_type": "display_data",
          "data": {
            "text/plain": [
              "<IPython.core.display.HTML object>"
            ],
            "text/html": [
              "\n",
              "     <input type=\"file\" id=\"files-a2367e10-7659-4936-9754-c77de6b685e6\" name=\"files[]\" multiple disabled\n",
              "        style=\"border:none\" />\n",
              "     <output id=\"result-a2367e10-7659-4936-9754-c77de6b685e6\">\n",
              "      Upload widget is only available when the cell has been executed in the\n",
              "      current browser session. Please rerun this cell to enable.\n",
              "      </output>\n",
              "      <script src=\"/nbextensions/google.colab/files.js\"></script> "
            ]
          },
          "metadata": {}
        },
        {
          "output_type": "stream",
          "name": "stdout",
          "text": [
            "Saving Fish.csv to Fish.csv\n"
          ]
        }
      ]
    },
    {
      "cell_type": "code",
      "source": [
        "#1. READ THE DATASET\n",
        "dataset = spark.read.csv('Fish.csv', inferSchema=True, header = True)"
      ],
      "metadata": {
        "id": "CpptcfC8atLM"
      },
      "execution_count": 5,
      "outputs": []
    },
    {
      "cell_type": "code",
      "source": [
        "dataset.show()"
      ],
      "metadata": {
        "colab": {
          "base_uri": "https://localhost:8080/"
        },
        "id": "sWtgJNJVB-pZ",
        "outputId": "044e030e-6b39-4be4-9a5f-46f95b1c6f39"
      },
      "execution_count": 6,
      "outputs": [
        {
          "output_type": "stream",
          "name": "stdout",
          "text": [
            "+-------+------+-------+-------+-------+-------+------+\n",
            "|Species|Weight|Length1|Length2|Length3| Height| Width|\n",
            "+-------+------+-------+-------+-------+-------+------+\n",
            "|  Bream| 242.0|   23.2|   25.4|   30.0|  11.52|  4.02|\n",
            "|  Bream| 290.0|   24.0|   26.3|   31.2|  12.48|4.3056|\n",
            "|  Bream| 340.0|   23.9|   26.5|   31.1|12.3778|4.6961|\n",
            "|  Bream| 363.0|   26.3|   29.0|   33.5|  12.73|4.4555|\n",
            "|  Bream| 430.0|   26.5|   29.0|   34.0| 12.444| 5.134|\n",
            "|  Bream| 450.0|   26.8|   29.7|   34.7|13.6024|4.9274|\n",
            "|  Bream| 500.0|   26.8|   29.7|   34.5|14.1795|5.2785|\n",
            "|  Bream| 390.0|   27.6|   30.0|   35.0|  12.67|  4.69|\n",
            "|  Bream| 450.0|   27.6|   30.0|   35.1|14.0049|4.8438|\n",
            "|  Bream| 500.0|   28.5|   30.7|   36.2|14.2266|4.9594|\n",
            "|  Bream| 475.0|   28.4|   31.0|   36.2|14.2628|5.1042|\n",
            "|  Bream| 500.0|   28.7|   31.0|   36.2|14.3714|4.8146|\n",
            "|  Bream| 500.0|   29.1|   31.5|   36.4|13.7592| 4.368|\n",
            "|  Bream| 340.0|   29.5|   32.0|   37.3|13.9129|5.0728|\n",
            "|  Bream| 600.0|   29.4|   32.0|   37.2|14.9544|5.1708|\n",
            "|  Bream| 600.0|   29.4|   32.0|   37.2| 15.438|  5.58|\n",
            "|  Bream| 700.0|   30.4|   33.0|   38.3|14.8604|5.2854|\n",
            "|  Bream| 700.0|   30.4|   33.0|   38.5| 14.938|5.1975|\n",
            "|  Bream| 610.0|   30.9|   33.5|   38.6| 15.633|5.1338|\n",
            "|  Bream| 650.0|   31.0|   33.5|   38.7|14.4738|5.7276|\n",
            "+-------+------+-------+-------+-------+-------+------+\n",
            "only showing top 20 rows\n",
            "\n"
          ]
        }
      ]
    },
    {
      "cell_type": "code",
      "source": [
        "row = dataset.count()\n",
        "row"
      ],
      "metadata": {
        "colab": {
          "base_uri": "https://localhost:8080/"
        },
        "id": "cfbr5YhIg-Xq",
        "outputId": "beef949a-a2b0-4b2b-c047-e367bc1538c2"
      },
      "execution_count": 7,
      "outputs": [
        {
          "output_type": "execute_result",
          "data": {
            "text/plain": [
              "159"
            ]
          },
          "metadata": {},
          "execution_count": 7
        }
      ]
    },
    {
      "cell_type": "code",
      "source": [
        "dataset.printSchema()"
      ],
      "metadata": {
        "colab": {
          "base_uri": "https://localhost:8080/"
        },
        "id": "xaIGPFGNhGH4",
        "outputId": "3f2a41c0-619d-4a1a-89ae-1f6709dacc87"
      },
      "execution_count": 8,
      "outputs": [
        {
          "output_type": "stream",
          "name": "stdout",
          "text": [
            "root\n",
            " |-- Species: string (nullable = true)\n",
            " |-- Weight: double (nullable = true)\n",
            " |-- Length1: double (nullable = true)\n",
            " |-- Length2: double (nullable = true)\n",
            " |-- Length3: double (nullable = true)\n",
            " |-- Height: double (nullable = true)\n",
            " |-- Width: double (nullable = true)\n",
            "\n"
          ]
        }
      ]
    },
    {
      "cell_type": "code",
      "source": [
        "db = dataset.toPandas()\n",
        "db.describe()"
      ],
      "metadata": {
        "colab": {
          "base_uri": "https://localhost:8080/",
          "height": 300
        },
        "id": "g1Apwpl-hJrQ",
        "outputId": "8dab6278-c69e-491e-c0ae-bfe9d6e17604"
      },
      "execution_count": 10,
      "outputs": [
        {
          "output_type": "execute_result",
          "data": {
            "text/plain": [
              "            Weight     Length1     Length2     Length3      Height       Width\n",
              "count   159.000000  159.000000  159.000000  159.000000  159.000000  159.000000\n",
              "mean    398.326415   26.247170   28.415723   31.227044    8.970994    4.417486\n",
              "std     357.978317    9.996441   10.716328   11.610246    4.286208    1.685804\n",
              "min       0.000000    7.500000    8.400000    8.800000    1.728400    1.047600\n",
              "25%     120.000000   19.050000   21.000000   23.150000    5.944800    3.385650\n",
              "50%     273.000000   25.200000   27.300000   29.400000    7.786000    4.248500\n",
              "75%     650.000000   32.700000   35.500000   39.650000   12.365900    5.584500\n",
              "max    1650.000000   59.000000   63.400000   68.000000   18.957000    8.142000"
            ],
            "text/html": [
              "\n",
              "  <div id=\"df-032fc39e-80b5-41a9-b044-e2c5a7ab6265\">\n",
              "    <div class=\"colab-df-container\">\n",
              "      <div>\n",
              "<style scoped>\n",
              "    .dataframe tbody tr th:only-of-type {\n",
              "        vertical-align: middle;\n",
              "    }\n",
              "\n",
              "    .dataframe tbody tr th {\n",
              "        vertical-align: top;\n",
              "    }\n",
              "\n",
              "    .dataframe thead th {\n",
              "        text-align: right;\n",
              "    }\n",
              "</style>\n",
              "<table border=\"1\" class=\"dataframe\">\n",
              "  <thead>\n",
              "    <tr style=\"text-align: right;\">\n",
              "      <th></th>\n",
              "      <th>Weight</th>\n",
              "      <th>Length1</th>\n",
              "      <th>Length2</th>\n",
              "      <th>Length3</th>\n",
              "      <th>Height</th>\n",
              "      <th>Width</th>\n",
              "    </tr>\n",
              "  </thead>\n",
              "  <tbody>\n",
              "    <tr>\n",
              "      <th>count</th>\n",
              "      <td>159.000000</td>\n",
              "      <td>159.000000</td>\n",
              "      <td>159.000000</td>\n",
              "      <td>159.000000</td>\n",
              "      <td>159.000000</td>\n",
              "      <td>159.000000</td>\n",
              "    </tr>\n",
              "    <tr>\n",
              "      <th>mean</th>\n",
              "      <td>398.326415</td>\n",
              "      <td>26.247170</td>\n",
              "      <td>28.415723</td>\n",
              "      <td>31.227044</td>\n",
              "      <td>8.970994</td>\n",
              "      <td>4.417486</td>\n",
              "    </tr>\n",
              "    <tr>\n",
              "      <th>std</th>\n",
              "      <td>357.978317</td>\n",
              "      <td>9.996441</td>\n",
              "      <td>10.716328</td>\n",
              "      <td>11.610246</td>\n",
              "      <td>4.286208</td>\n",
              "      <td>1.685804</td>\n",
              "    </tr>\n",
              "    <tr>\n",
              "      <th>min</th>\n",
              "      <td>0.000000</td>\n",
              "      <td>7.500000</td>\n",
              "      <td>8.400000</td>\n",
              "      <td>8.800000</td>\n",
              "      <td>1.728400</td>\n",
              "      <td>1.047600</td>\n",
              "    </tr>\n",
              "    <tr>\n",
              "      <th>25%</th>\n",
              "      <td>120.000000</td>\n",
              "      <td>19.050000</td>\n",
              "      <td>21.000000</td>\n",
              "      <td>23.150000</td>\n",
              "      <td>5.944800</td>\n",
              "      <td>3.385650</td>\n",
              "    </tr>\n",
              "    <tr>\n",
              "      <th>50%</th>\n",
              "      <td>273.000000</td>\n",
              "      <td>25.200000</td>\n",
              "      <td>27.300000</td>\n",
              "      <td>29.400000</td>\n",
              "      <td>7.786000</td>\n",
              "      <td>4.248500</td>\n",
              "    </tr>\n",
              "    <tr>\n",
              "      <th>75%</th>\n",
              "      <td>650.000000</td>\n",
              "      <td>32.700000</td>\n",
              "      <td>35.500000</td>\n",
              "      <td>39.650000</td>\n",
              "      <td>12.365900</td>\n",
              "      <td>5.584500</td>\n",
              "    </tr>\n",
              "    <tr>\n",
              "      <th>max</th>\n",
              "      <td>1650.000000</td>\n",
              "      <td>59.000000</td>\n",
              "      <td>63.400000</td>\n",
              "      <td>68.000000</td>\n",
              "      <td>18.957000</td>\n",
              "      <td>8.142000</td>\n",
              "    </tr>\n",
              "  </tbody>\n",
              "</table>\n",
              "</div>\n",
              "      <button class=\"colab-df-convert\" onclick=\"convertToInteractive('df-032fc39e-80b5-41a9-b044-e2c5a7ab6265')\"\n",
              "              title=\"Convert this dataframe to an interactive table.\"\n",
              "              style=\"display:none;\">\n",
              "        \n",
              "  <svg xmlns=\"http://www.w3.org/2000/svg\" height=\"24px\"viewBox=\"0 0 24 24\"\n",
              "       width=\"24px\">\n",
              "    <path d=\"M0 0h24v24H0V0z\" fill=\"none\"/>\n",
              "    <path d=\"M18.56 5.44l.94 2.06.94-2.06 2.06-.94-2.06-.94-.94-2.06-.94 2.06-2.06.94zm-11 1L8.5 8.5l.94-2.06 2.06-.94-2.06-.94L8.5 2.5l-.94 2.06-2.06.94zm10 10l.94 2.06.94-2.06 2.06-.94-2.06-.94-.94-2.06-.94 2.06-2.06.94z\"/><path d=\"M17.41 7.96l-1.37-1.37c-.4-.4-.92-.59-1.43-.59-.52 0-1.04.2-1.43.59L10.3 9.45l-7.72 7.72c-.78.78-.78 2.05 0 2.83L4 21.41c.39.39.9.59 1.41.59.51 0 1.02-.2 1.41-.59l7.78-7.78 2.81-2.81c.8-.78.8-2.07 0-2.86zM5.41 20L4 18.59l7.72-7.72 1.47 1.35L5.41 20z\"/>\n",
              "  </svg>\n",
              "      </button>\n",
              "      \n",
              "  <style>\n",
              "    .colab-df-container {\n",
              "      display:flex;\n",
              "      flex-wrap:wrap;\n",
              "      gap: 12px;\n",
              "    }\n",
              "\n",
              "    .colab-df-convert {\n",
              "      background-color: #E8F0FE;\n",
              "      border: none;\n",
              "      border-radius: 50%;\n",
              "      cursor: pointer;\n",
              "      display: none;\n",
              "      fill: #1967D2;\n",
              "      height: 32px;\n",
              "      padding: 0 0 0 0;\n",
              "      width: 32px;\n",
              "    }\n",
              "\n",
              "    .colab-df-convert:hover {\n",
              "      background-color: #E2EBFA;\n",
              "      box-shadow: 0px 1px 2px rgba(60, 64, 67, 0.3), 0px 1px 3px 1px rgba(60, 64, 67, 0.15);\n",
              "      fill: #174EA6;\n",
              "    }\n",
              "\n",
              "    [theme=dark] .colab-df-convert {\n",
              "      background-color: #3B4455;\n",
              "      fill: #D2E3FC;\n",
              "    }\n",
              "\n",
              "    [theme=dark] .colab-df-convert:hover {\n",
              "      background-color: #434B5C;\n",
              "      box-shadow: 0px 1px 3px 1px rgba(0, 0, 0, 0.15);\n",
              "      filter: drop-shadow(0px 1px 2px rgba(0, 0, 0, 0.3));\n",
              "      fill: #FFFFFF;\n",
              "    }\n",
              "  </style>\n",
              "\n",
              "      <script>\n",
              "        const buttonEl =\n",
              "          document.querySelector('#df-032fc39e-80b5-41a9-b044-e2c5a7ab6265 button.colab-df-convert');\n",
              "        buttonEl.style.display =\n",
              "          google.colab.kernel.accessAllowed ? 'block' : 'none';\n",
              "\n",
              "        async function convertToInteractive(key) {\n",
              "          const element = document.querySelector('#df-032fc39e-80b5-41a9-b044-e2c5a7ab6265');\n",
              "          const dataTable =\n",
              "            await google.colab.kernel.invokeFunction('convertToInteractive',\n",
              "                                                     [key], {});\n",
              "          if (!dataTable) return;\n",
              "\n",
              "          const docLinkHtml = 'Like what you see? Visit the ' +\n",
              "            '<a target=\"_blank\" href=https://colab.research.google.com/notebooks/data_table.ipynb>data table notebook</a>'\n",
              "            + ' to learn more about interactive tables.';\n",
              "          element.innerHTML = '';\n",
              "          dataTable['output_type'] = 'display_data';\n",
              "          await google.colab.output.renderOutput(dataTable, element);\n",
              "          const docLink = document.createElement('div');\n",
              "          docLink.innerHTML = docLinkHtml;\n",
              "          element.appendChild(docLink);\n",
              "        }\n",
              "      </script>\n",
              "    </div>\n",
              "  </div>\n",
              "  "
            ]
          },
          "metadata": {},
          "execution_count": 10
        }
      ]
    },
    {
      "cell_type": "code",
      "source": [
        "db.isnull().sum()"
      ],
      "metadata": {
        "colab": {
          "base_uri": "https://localhost:8080/"
        },
        "id": "-eDpOvF_iOBy",
        "outputId": "d98e41f1-0ea2-4188-9bc8-68166661a337"
      },
      "execution_count": 14,
      "outputs": [
        {
          "output_type": "execute_result",
          "data": {
            "text/plain": [
              "Species    0\n",
              "Weight     0\n",
              "Length1    0\n",
              "Length2    0\n",
              "Length3    0\n",
              "Height     0\n",
              "Width      0\n",
              "dtype: int64"
            ]
          },
          "metadata": {},
          "execution_count": 14
        }
      ]
    },
    {
      "cell_type": "code",
      "source": [
        ""
      ],
      "metadata": {
        "id": "37LsrrT8hgwK"
      },
      "execution_count": null,
      "outputs": []
    },
    {
      "cell_type": "code",
      "source": [
        "#combine columns\n",
        "\n",
        "only_features=['Length1','Length2','Length3','Height','Width']"
      ],
      "metadata": {
        "id": "vfTmKurHCBHD"
      },
      "execution_count": null,
      "outputs": []
    },
    {
      "cell_type": "code",
      "source": [
        "assembler = VectorAssembler(inputCols=only_features, outputCol='features')"
      ],
      "metadata": {
        "id": "QK8IV0ILCR_9"
      },
      "execution_count": null,
      "outputs": []
    },
    {
      "cell_type": "code",
      "source": [
        "feat_df = assembler.transform(dataset).select('features')"
      ],
      "metadata": {
        "id": "oJC7_tXtCWPH"
      },
      "execution_count": null,
      "outputs": []
    },
    {
      "cell_type": "code",
      "source": [
        "feat_df.show(6)"
      ],
      "metadata": {
        "colab": {
          "base_uri": "https://localhost:8080/"
        },
        "id": "Rhk9jmyxLoZN",
        "outputId": "5ded4b36-0b34-467a-d160-d25327542569"
      },
      "execution_count": null,
      "outputs": [
        {
          "output_type": "stream",
          "name": "stdout",
          "text": [
            "+--------------------+\n",
            "|            features|\n",
            "+--------------------+\n",
            "|[23.2,25.4,30.0,1...|\n",
            "|[24.0,26.3,31.2,1...|\n",
            "|[23.9,26.5,31.1,1...|\n",
            "|[26.3,29.0,33.5,1...|\n",
            "|[26.5,29.0,34.0,1...|\n",
            "|[26.8,29.7,34.7,1...|\n",
            "+--------------------+\n",
            "only showing top 6 rows\n",
            "\n"
          ]
        }
      ]
    },
    {
      "cell_type": "code",
      "source": [
        "#standardize dataset\n",
        "\n",
        "scaler = StandardScaler(\n",
        "    inputCol = 'features',\n",
        "    outputCol = 'scaledfeatures',\n",
        "    withMean = True,\n",
        "    withStd = True).fit(feat_df)\n",
        "\n",
        "    #when we transform the dtaframe the old features will remain\n",
        "df_scaled = scaler.transform(feat_df)\n",
        "df_scaled.show(6)"
      ],
      "metadata": {
        "colab": {
          "base_uri": "https://localhost:8080/"
        },
        "id": "OvWzl6kwNDi5",
        "outputId": "b46f8fad-f9e5-4fc0-e406-0ded683938ce"
      },
      "execution_count": null,
      "outputs": [
        {
          "output_type": "stream",
          "name": "stdout",
          "text": [
            "+--------------------+--------------------+\n",
            "|            features|      scaledfeatures|\n",
            "+--------------------+--------------------+\n",
            "|[23.2,25.4,30.0,1...|[-0.3048254620958...|\n",
            "|[24.0,26.3,31.2,1...|[-0.2247969816446...|\n",
            "|[23.9,26.5,31.1,1...|[-0.2348005417010...|\n",
            "|[26.3,29.0,33.5,1...|[0.00528489965243...|\n",
            "|[26.5,29.0,34.0,1...|[0.02529201976522...|\n",
            "|[26.8,29.7,34.7,1...|[0.05530269993441...|\n",
            "+--------------------+--------------------+\n",
            "only showing top 6 rows\n",
            "\n"
          ]
        }
      ]
    },
    {
      "cell_type": "code",
      "source": [
        "#fit for pca model\n",
        "\n",
        "n_components = 2\n",
        "pca = PCA(\n",
        "    k = n_components,\n",
        "    inputCol = 'scaledfeatures',\n",
        "    outputCol = 'pcaFeatures').fit(df_scaled)\n",
        "\n",
        "df_pca = pca.transform(df_scaled)\n",
        "print(\"Explained Variance ratio\", pca.explainedVariance.toArray())\n",
        "df_pca.show(6)"
      ],
      "metadata": {
        "colab": {
          "base_uri": "https://localhost:8080/"
        },
        "id": "lU86oDY9NTBu",
        "outputId": "e2a00a4c-4232-42ba-852f-cfd766c86eb2"
      },
      "execution_count": null,
      "outputs": [
        {
          "output_type": "stream",
          "name": "stdout",
          "text": [
            "Explained Variance ratio [0.8738777  0.10194308]\n",
            "+--------------------+--------------------+--------------------+\n",
            "|            features|      scaledfeatures|         pcaFeatures|\n",
            "+--------------------+--------------------+--------------------+\n",
            "|[23.2,25.4,30.0,1...|[-0.3048254620958...|[0.20300360785698...|\n",
            "|[24.0,26.3,31.2,1...|[-0.2247969816446...|[-0.0831602382970...|\n",
            "|[23.9,26.5,31.1,1...|[-0.2348005417010...|[-0.1787488997886...|\n",
            "|[26.3,29.0,33.5,1...|[0.00528489965243...|[-0.4624331580772...|\n",
            "|[26.5,29.0,34.0,1...|[0.02529201976522...|[-0.6484654617791...|\n",
            "|[26.8,29.7,34.7,1...|[0.05530269993441...|[-0.7681837406117...|\n",
            "+--------------------+--------------------+--------------------+\n",
            "only showing top 6 rows\n",
            "\n"
          ]
        }
      ]
    },
    {
      "cell_type": "code",
      "source": [
        "X_pca = df_pca.rdd.map(lambda row: row.pcaFeatures).collect()\n",
        "X_pca = np.array(X_pca)\n",
        "X_pca"
      ],
      "metadata": {
        "colab": {
          "base_uri": "https://localhost:8080/"
        },
        "id": "IP8DkdvMNZN1",
        "outputId": "c3cc0e7a-e969-4ae6-aa89-3e7977bac30b"
      },
      "execution_count": null,
      "outputs": [
        {
          "output_type": "execute_result",
          "data": {
            "text/plain": [
              "array([[ 2.03003608e-01,  6.67518798e-01],\n",
              "       [-8.31602383e-02,  8.12185205e-01],\n",
              "       [-1.78748900e-01,  8.36862666e-01],\n",
              "       [-4.62433158e-01,  6.77837698e-01],\n",
              "       [-6.48465462e-01,  6.85001485e-01],\n",
              "       [-7.68183741e-01,  8.43328758e-01],\n",
              "       [-9.05165506e-01,  1.00018763e+00],\n",
              "       [-6.84397802e-01,  5.92091238e-01],\n",
              "       [-8.47669214e-01,  8.68496844e-01],\n",
              "       [-1.01491214e+00,  8.53721689e-01],\n",
              "       [-1.06530179e+00,  8.72122996e-01],\n",
              "       [-1.01121038e+00,  8.49346621e-01],\n",
              "       [-8.85781924e-01,  6.45910831e-01],\n",
              "       [-1.16492013e+00,  7.13002322e-01],\n",
              "       [-1.27456507e+00,  9.32723347e-01],\n",
              "       [-1.42695266e+00,  1.07452757e+00],\n",
              "       [-1.43129036e+00,  8.43902250e-01],\n",
              "       [-1.42270524e+00,  8.45271820e-01],\n",
              "       [-1.51600869e+00,  9.39542469e-01],\n",
              "       [-1.58130898e+00,  7.77155603e-01],\n",
              "       [-1.66486008e+00,  8.47038195e-01],\n",
              "       [-1.68047050e+00,  9.94542035e-01],\n",
              "       [-1.66125438e+00,  8.65015851e-01],\n",
              "       [-1.95642573e+00,  9.11939518e-01],\n",
              "       [-1.88013776e+00,  9.97954644e-01],\n",
              "       [-2.02665050e+00,  1.07145672e+00],\n",
              "       [-2.03377729e+00,  1.07452576e+00],\n",
              "       [-2.09592469e+00,  1.00723338e+00],\n",
              "       [-2.23049317e+00,  1.11492957e+00],\n",
              "       [-2.63804392e+00,  1.49341696e+00],\n",
              "       [-2.67262687e+00,  1.15652985e+00],\n",
              "       [-2.66890680e+00,  1.16583728e+00],\n",
              "       [-3.00248746e+00,  1.25541270e+00],\n",
              "       [-3.13638719e+00,  1.13533249e+00],\n",
              "       [-2.99808948e+00,  8.62877335e-01],\n",
              "       [ 2.85133461e+00, -3.69503546e-02],\n",
              "       [ 2.09024427e+00, -6.71856065e-02],\n",
              "       [ 1.93471533e+00, -7.18507122e-02],\n",
              "       [ 1.74231773e+00, -1.04157874e-01],\n",
              "       [ 1.55504855e+00,  3.93801189e-02],\n",
              "       [ 1.52721512e+00,  2.47593149e-02],\n",
              "       [ 1.51276653e+00, -4.77975110e-02],\n",
              "       [ 1.49772926e+00, -9.68972914e-02],\n",
              "       [ 1.27159286e+00, -1.85983818e-01],\n",
              "       [ 1.26520056e+00, -4.45313395e-02],\n",
              "       [ 1.09463554e+00,  3.23383644e-02],\n",
              "       [ 1.25906690e+00, -1.31318066e-01],\n",
              "       [ 1.14043034e+00, -1.08892999e-01],\n",
              "       [ 8.34724209e-01,  1.63750639e-03],\n",
              "       [ 9.90429241e-01, -1.16045879e-01],\n",
              "       [ 8.01943559e-01,  2.72218144e-02],\n",
              "       [ 7.00739996e-01, -1.80773696e-01],\n",
              "       [ 2.78233021e-01,  1.76205936e-01],\n",
              "       [ 8.48818245e-02,  5.89739398e-02],\n",
              "       [-7.42842503e-01, -6.79076753e-02],\n",
              "       [ 4.27679164e-01,  7.31760407e-02],\n",
              "       [ 3.79021328e-01, -1.53353468e-02],\n",
              "       [ 1.16401782e-02,  3.52898120e-02],\n",
              "       [-1.06027821e+00,  3.90803986e-01],\n",
              "       [-1.85565518e+00,  1.51021859e-01],\n",
              "       [-2.37620115e+00, -3.95799832e-02],\n",
              "       [ 2.53093157e+00,  4.52601753e-01],\n",
              "       [ 2.44984748e+00,  3.31071785e-01],\n",
              "       [ 1.99506449e+00,  3.57110565e-01],\n",
              "       [ 1.66930588e+00,  4.71320677e-01],\n",
              "       [ 1.39496061e+00,  5.32095897e-01],\n",
              "       [ 1.33531877e+00,  4.07270944e-01],\n",
              "       [ 1.22835256e+00,  5.88142114e-01],\n",
              "       [ 1.15784942e+00,  5.57743423e-01],\n",
              "       [ 7.69381272e-01,  6.12248380e-01],\n",
              "       [ 3.15659463e-01,  6.52068202e-01],\n",
              "       [ 1.36514265e-01,  6.35112457e-01],\n",
              "       [ 4.05925553e+00, -4.62905894e-02],\n",
              "       [ 3.07478359e+00, -1.36506687e-01],\n",
              "       [ 2.76329567e+00, -1.35159871e-01],\n",
              "       [ 2.48555315e+00, -6.05475766e-02],\n",
              "       [ 2.26569009e+00, -1.08387113e-01],\n",
              "       [ 2.03018084e+00,  1.19120541e-02],\n",
              "       [ 2.01903570e+00, -6.06646877e-02],\n",
              "       [ 1.93607050e+00, -2.09706278e-02],\n",
              "       [ 1.90553698e+00, -1.68891264e-01],\n",
              "       [ 1.93739268e+00, -2.39706774e-01],\n",
              "       [ 1.53236036e+00, -1.13789314e-01],\n",
              "       [ 1.57878065e+00, -9.86331291e-02],\n",
              "       [ 1.50221880e+00, -1.00732863e-01],\n",
              "       [ 1.43777112e+00, -5.96976909e-03],\n",
              "       [ 1.40469165e+00, -1.31492893e-01],\n",
              "       [ 1.41476085e+00, -2.09517389e-01],\n",
              "       [ 1.37321047e+00, -1.17856154e-01],\n",
              "       [ 1.39398566e+00, -1.63686772e-01],\n",
              "       [ 1.29922370e+00, -1.77885744e-01],\n",
              "       [ 1.30400151e+00, -1.96906348e-01],\n",
              "       [ 1.22125437e+00, -1.43639748e-02],\n",
              "       [ 1.26774528e+00, -1.93655201e-01],\n",
              "       [ 1.29468463e+00, -3.62005772e-01],\n",
              "       [ 1.10962084e+00, -1.85477140e-01],\n",
              "       [ 9.55021065e-01, -2.81787211e-02],\n",
              "       [ 1.00884857e+00, -1.95372815e-01],\n",
              "       [ 8.03635611e-01, -1.36909886e-01],\n",
              "       [ 9.10779293e-01, -2.81223487e-01],\n",
              "       [ 6.81724217e-01, -2.37032777e-01],\n",
              "       [ 5.04414179e-01, -2.25958503e-01],\n",
              "       [ 6.38039808e-02,  7.14407363e-02],\n",
              "       [ 3.54883059e-01, -2.63482220e-01],\n",
              "       [ 3.65102685e-01, -2.86026984e-01],\n",
              "       [ 2.82719179e-01, -2.14104999e-01],\n",
              "       [ 2.67042192e-01, -1.92276707e-01],\n",
              "       [ 6.72119762e-02, -2.55853484e-01],\n",
              "       [-1.30902448e-01, -3.30496120e-01],\n",
              "       [-1.02222575e+00,  6.59764668e-02],\n",
              "       [-1.38587640e+00,  6.26544923e-03],\n",
              "       [-1.94937171e+00,  3.63599285e-01],\n",
              "       [-1.84957182e+00,  1.04368927e-02],\n",
              "       [-1.74244638e+00, -2.95646657e-02],\n",
              "       [-1.74599759e+00, -1.07321358e-01],\n",
              "       [-1.75062921e+00, -1.48500468e-01],\n",
              "       [-2.36244384e+00, -6.99060801e-02],\n",
              "       [-1.96312845e+00, -2.42877950e-01],\n",
              "       [-2.43943685e+00,  1.64444059e-01],\n",
              "       [-2.42720185e+00, -1.98959936e-02],\n",
              "       [-2.45415872e+00, -5.18747714e-02],\n",
              "       [-2.57124550e+00,  1.04380221e-01],\n",
              "       [-2.24677530e+00, -2.40416703e-01],\n",
              "       [-2.71783747e+00, -5.03428612e-02],\n",
              "       [-2.85548475e+00, -2.40047087e-01],\n",
              "       [-2.97011187e+00, -1.26514971e-01],\n",
              "       [-3.21918795e+00, -5.16801283e-02],\n",
              "       [-3.15038678e+00, -1.94116977e-01],\n",
              "       [ 9.26577068e-02, -1.09304481e+00],\n",
              "       [-4.03483503e-01, -1.13754861e+00],\n",
              "       [-6.14629647e-01, -1.14869836e+00],\n",
              "       [-7.85753320e-01, -1.28092627e+00],\n",
              "       [-1.11464864e+00, -1.07838652e+00],\n",
              "       [-9.40132753e-01, -1.36331807e+00],\n",
              "       [-1.65222818e+00, -1.48775664e+00],\n",
              "       [-1.64857564e+00, -1.56065069e+00],\n",
              "       [-1.95170558e+00, -1.31905126e+00],\n",
              "       [-2.08012509e+00, -1.67138146e+00],\n",
              "       [-2.27409861e+00, -1.59569957e+00],\n",
              "       [-2.66205567e+00, -1.71794519e+00],\n",
              "       [-3.46614991e+00, -1.68271139e+00],\n",
              "       [-4.38432007e+00, -1.58229937e+00],\n",
              "       [-4.59625954e+00, -2.22512112e+00],\n",
              "       [-4.59625954e+00, -2.22512112e+00],\n",
              "       [-5.51008521e+00, -2.10941956e+00],\n",
              "       [ 3.96357093e+00, -3.00194101e-01],\n",
              "       [ 3.81759250e+00, -3.00856423e-01],\n",
              "       [ 3.83326068e+00, -3.56129848e-01],\n",
              "       [ 3.68239259e+00, -2.67412242e-01],\n",
              "       [ 3.68111345e+00, -3.24754585e-01],\n",
              "       [ 3.67117210e+00, -3.54285818e-01],\n",
              "       [ 3.58557085e+00, -3.49484965e-01],\n",
              "       [ 3.61715921e+00, -3.63168126e-01],\n",
              "       [ 3.60531762e+00, -3.78223366e-01],\n",
              "       [ 3.52827784e+00, -3.84951762e-01],\n",
              "       [ 3.50963586e+00, -3.47802488e-01],\n",
              "       [ 3.46995512e+00, -4.16136220e-01],\n",
              "       [ 3.03574025e+00, -3.07266173e-01],\n",
              "       [ 2.98213898e+00, -3.76801533e-01]])"
            ]
          },
          "metadata": {},
          "execution_count": 21
        }
      ]
    },
    {
      "cell_type": "code",
      "source": [
        "#convert array to datafram\n",
        "df_pca = pd.DataFrame(X_pca, columns = ['PC1','PC2'])\n",
        "df_pca.head()"
      ],
      "metadata": {
        "colab": {
          "base_uri": "https://localhost:8080/",
          "height": 206
        },
        "id": "BVM_I0MtNdov",
        "outputId": "629264db-ee3c-4843-8d98-a923f8d637d6"
      },
      "execution_count": null,
      "outputs": [
        {
          "output_type": "execute_result",
          "data": {
            "text/plain": [
              "        PC1       PC2\n",
              "0  0.203004  0.667519\n",
              "1 -0.083160  0.812185\n",
              "2 -0.178749  0.836863\n",
              "3 -0.462433  0.677838\n",
              "4 -0.648465  0.685001"
            ],
            "text/html": [
              "\n",
              "  <div id=\"df-e87bae3b-4e70-41f2-9c1c-3a350298cbe4\">\n",
              "    <div class=\"colab-df-container\">\n",
              "      <div>\n",
              "<style scoped>\n",
              "    .dataframe tbody tr th:only-of-type {\n",
              "        vertical-align: middle;\n",
              "    }\n",
              "\n",
              "    .dataframe tbody tr th {\n",
              "        vertical-align: top;\n",
              "    }\n",
              "\n",
              "    .dataframe thead th {\n",
              "        text-align: right;\n",
              "    }\n",
              "</style>\n",
              "<table border=\"1\" class=\"dataframe\">\n",
              "  <thead>\n",
              "    <tr style=\"text-align: right;\">\n",
              "      <th></th>\n",
              "      <th>PC1</th>\n",
              "      <th>PC2</th>\n",
              "    </tr>\n",
              "  </thead>\n",
              "  <tbody>\n",
              "    <tr>\n",
              "      <th>0</th>\n",
              "      <td>0.203004</td>\n",
              "      <td>0.667519</td>\n",
              "    </tr>\n",
              "    <tr>\n",
              "      <th>1</th>\n",
              "      <td>-0.083160</td>\n",
              "      <td>0.812185</td>\n",
              "    </tr>\n",
              "    <tr>\n",
              "      <th>2</th>\n",
              "      <td>-0.178749</td>\n",
              "      <td>0.836863</td>\n",
              "    </tr>\n",
              "    <tr>\n",
              "      <th>3</th>\n",
              "      <td>-0.462433</td>\n",
              "      <td>0.677838</td>\n",
              "    </tr>\n",
              "    <tr>\n",
              "      <th>4</th>\n",
              "      <td>-0.648465</td>\n",
              "      <td>0.685001</td>\n",
              "    </tr>\n",
              "  </tbody>\n",
              "</table>\n",
              "</div>\n",
              "      <button class=\"colab-df-convert\" onclick=\"convertToInteractive('df-e87bae3b-4e70-41f2-9c1c-3a350298cbe4')\"\n",
              "              title=\"Convert this dataframe to an interactive table.\"\n",
              "              style=\"display:none;\">\n",
              "        \n",
              "  <svg xmlns=\"http://www.w3.org/2000/svg\" height=\"24px\"viewBox=\"0 0 24 24\"\n",
              "       width=\"24px\">\n",
              "    <path d=\"M0 0h24v24H0V0z\" fill=\"none\"/>\n",
              "    <path d=\"M18.56 5.44l.94 2.06.94-2.06 2.06-.94-2.06-.94-.94-2.06-.94 2.06-2.06.94zm-11 1L8.5 8.5l.94-2.06 2.06-.94-2.06-.94L8.5 2.5l-.94 2.06-2.06.94zm10 10l.94 2.06.94-2.06 2.06-.94-2.06-.94-.94-2.06-.94 2.06-2.06.94z\"/><path d=\"M17.41 7.96l-1.37-1.37c-.4-.4-.92-.59-1.43-.59-.52 0-1.04.2-1.43.59L10.3 9.45l-7.72 7.72c-.78.78-.78 2.05 0 2.83L4 21.41c.39.39.9.59 1.41.59.51 0 1.02-.2 1.41-.59l7.78-7.78 2.81-2.81c.8-.78.8-2.07 0-2.86zM5.41 20L4 18.59l7.72-7.72 1.47 1.35L5.41 20z\"/>\n",
              "  </svg>\n",
              "      </button>\n",
              "      \n",
              "  <style>\n",
              "    .colab-df-container {\n",
              "      display:flex;\n",
              "      flex-wrap:wrap;\n",
              "      gap: 12px;\n",
              "    }\n",
              "\n",
              "    .colab-df-convert {\n",
              "      background-color: #E8F0FE;\n",
              "      border: none;\n",
              "      border-radius: 50%;\n",
              "      cursor: pointer;\n",
              "      display: none;\n",
              "      fill: #1967D2;\n",
              "      height: 32px;\n",
              "      padding: 0 0 0 0;\n",
              "      width: 32px;\n",
              "    }\n",
              "\n",
              "    .colab-df-convert:hover {\n",
              "      background-color: #E2EBFA;\n",
              "      box-shadow: 0px 1px 2px rgba(60, 64, 67, 0.3), 0px 1px 3px 1px rgba(60, 64, 67, 0.15);\n",
              "      fill: #174EA6;\n",
              "    }\n",
              "\n",
              "    [theme=dark] .colab-df-convert {\n",
              "      background-color: #3B4455;\n",
              "      fill: #D2E3FC;\n",
              "    }\n",
              "\n",
              "    [theme=dark] .colab-df-convert:hover {\n",
              "      background-color: #434B5C;\n",
              "      box-shadow: 0px 1px 3px 1px rgba(0, 0, 0, 0.15);\n",
              "      filter: drop-shadow(0px 1px 2px rgba(0, 0, 0, 0.3));\n",
              "      fill: #FFFFFF;\n",
              "    }\n",
              "  </style>\n",
              "\n",
              "      <script>\n",
              "        const buttonEl =\n",
              "          document.querySelector('#df-e87bae3b-4e70-41f2-9c1c-3a350298cbe4 button.colab-df-convert');\n",
              "        buttonEl.style.display =\n",
              "          google.colab.kernel.accessAllowed ? 'block' : 'none';\n",
              "\n",
              "        async function convertToInteractive(key) {\n",
              "          const element = document.querySelector('#df-e87bae3b-4e70-41f2-9c1c-3a350298cbe4');\n",
              "          const dataTable =\n",
              "            await google.colab.kernel.invokeFunction('convertToInteractive',\n",
              "                                                     [key], {});\n",
              "          if (!dataTable) return;\n",
              "\n",
              "          const docLinkHtml = 'Like what you see? Visit the ' +\n",
              "            '<a target=\"_blank\" href=https://colab.research.google.com/notebooks/data_table.ipynb>data table notebook</a>'\n",
              "            + ' to learn more about interactive tables.';\n",
              "          element.innerHTML = '';\n",
              "          dataTable['output_type'] = 'display_data';\n",
              "          await google.colab.output.renderOutput(dataTable, element);\n",
              "          const docLink = document.createElement('div');\n",
              "          docLink.innerHTML = docLinkHtml;\n",
              "          element.appendChild(docLink);\n",
              "        }\n",
              "      </script>\n",
              "    </div>\n",
              "  </div>\n",
              "  "
            ]
          },
          "metadata": {},
          "execution_count": 22
        }
      ]
    },
    {
      "cell_type": "code",
      "source": [
        "#plot two principal complonents\n",
        "\n",
        "plt.rcParams['figure.figsize'] = 8, 6\n",
        "plt.rcParams['font.size'] = 12\n",
        "ax1 = df_pca.plot.scatter(x='PC1',y='PC2',c='DarkBlue')"
      ],
      "metadata": {
        "colab": {
          "base_uri": "https://localhost:8080/",
          "height": 394
        },
        "id": "aWEIvVs6NmxM",
        "outputId": "b8fe6d37-28a0-450c-c9be-53c5f60dc459"
      },
      "execution_count": null,
      "outputs": [
        {
          "output_type": "display_data",
          "data": {
            "text/plain": [
              "<Figure size 576x432 with 1 Axes>"
            ],
            "image/png": "[encoded data removed]"
          },
          "metadata": {
            "needs_background": "light"
          }
        }
      ]
    },
    {
      "cell_type": "code",
      "source": [
        "#Linear Regression\n",
        "\n",
        "output = assembler.transform(dataset)\n",
        "\n",
        "#input vs output\n",
        "finalized_data = output.select('features','Weight')\n",
        "\n",
        "finalized_data.show()"
      ],
      "metadata": {
        "colab": {
          "base_uri": "https://localhost:8080/"
        },
        "id": "R2JjzUbUNqjA",
        "outputId": "ba05c3d4-320d-4134-f29c-78314d55430a"
      },
      "execution_count": null,
      "outputs": [
        {
          "output_type": "stream",
          "name": "stdout",
          "text": [
            "+--------------------+------+\n",
            "|            features|Weight|\n",
            "+--------------------+------+\n",
            "|[23.2,25.4,30.0,1...| 242.0|\n",
            "|[24.0,26.3,31.2,1...| 290.0|\n",
            "|[23.9,26.5,31.1,1...| 340.0|\n",
            "|[26.3,29.0,33.5,1...| 363.0|\n",
            "|[26.5,29.0,34.0,1...| 430.0|\n",
            "|[26.8,29.7,34.7,1...| 450.0|\n",
            "|[26.8,29.7,34.5,1...| 500.0|\n",
            "|[27.6,30.0,35.0,1...| 390.0|\n",
            "|[27.6,30.0,35.1,1...| 450.0|\n",
            "|[28.5,30.7,36.2,1...| 500.0|\n",
            "|[28.4,31.0,36.2,1...| 475.0|\n",
            "|[28.7,31.0,36.2,1...| 500.0|\n",
            "|[29.1,31.5,36.4,1...| 500.0|\n",
            "|[29.5,32.0,37.3,1...| 340.0|\n",
            "|[29.4,32.0,37.2,1...| 600.0|\n",
            "|[29.4,32.0,37.2,1...| 600.0|\n",
            "|[30.4,33.0,38.3,1...| 700.0|\n",
            "|[30.4,33.0,38.5,1...| 700.0|\n",
            "|[30.9,33.5,38.6,1...| 610.0|\n",
            "|[31.0,33.5,38.7,1...| 650.0|\n",
            "+--------------------+------+\n",
            "only showing top 20 rows\n",
            "\n"
          ]
        }
      ]
    },
    {
      "cell_type": "code",
      "source": [
        "#split train & test data\n",
        "train_data,test_data = finalized_data.randomSplit([0.8,0.2])"
      ],
      "metadata": {
        "id": "2jdTjU7tNzkC"
      },
      "execution_count": null,
      "outputs": []
    },
    {
      "cell_type": "code",
      "source": [
        "#train model\n",
        "\n",
        "regressor = LinearRegression(featuresCol='features', labelCol='Weight')\n",
        "\n",
        "#learn to fit the model from train set\n",
        "regressor = regressor.fit(train_data)"
      ],
      "metadata": {
        "id": "_E-p6POwN2um"
      },
      "execution_count": null,
      "outputs": []
    },
    {
      "cell_type": "code",
      "source": [
        "#model coefficient\n",
        "\n",
        "coeff = regressor.coefficients\n",
        "\n",
        "#x & Yintercept\n",
        "\n",
        "intr = regressor.intercept\n",
        "\n",
        "print(\"The coefficient of the model is : %a\" %coeff)\n",
        "print(\"The intercept of the model is : %f\" %intr)\n"
      ],
      "metadata": {
        "colab": {
          "base_uri": "https://localhost:8080/"
        },
        "id": "UDQQ93KPN7Mx",
        "outputId": "5b980540-8777-4c61-d99e-e6b9d0dabbdd"
      },
      "execution_count": null,
      "outputs": [
        {
          "output_type": "stream",
          "name": "stdout",
          "text": [
            "The coefficient of the model is : DenseVector([69.8089, -15.2737, -26.1649, 25.6866, 24.1286])\n",
            "The intercept of the model is : -516.371145\n"
          ]
        }
      ]
    },
    {
      "cell_type": "code",
      "source": [
        "#Evaluate model for test dataset\n",
        "\n",
        "pred = regressor.evaluate(test_data)\n",
        "#predict the model\n",
        "\n",
        "pred.predictions.show()"
      ],
      "metadata": {
        "colab": {
          "base_uri": "https://localhost:8080/"
        },
        "id": "JdjH2TvFN-X1",
        "outputId": "6a1943aa-2c3e-4128-ab64-0aefa943bcc0"
      },
      "execution_count": null,
      "outputs": [
        {
          "output_type": "stream",
          "name": "stdout",
          "text": [
            "+--------------------+------+-------------------+\n",
            "|            features|Weight|         prediction|\n",
            "+--------------------+------+-------------------+\n",
            "|[10.0,10.5,11.6,1...|   7.5|-203.52512201628747|\n",
            "|[11.3,11.8,13.1,2...|   9.9|-165.52069891282457|\n",
            "|[12.5,13.7,14.7,3...|  32.0| -98.77264373773511|\n",
            "|[13.8,15.0,16.0,3...|  40.0| -43.84508282741041|\n",
            "|[13.8,15.0,16.2,2...|  19.9|  -85.3236883644231|\n",
            "|[16.3,17.7,19.8,7...|  90.0|  87.81558184251196|\n",
            "|[17.8,19.6,20.8,5...|  85.0|  87.87511923330544|\n",
            "|[19.0,21.0,22.5,5...| 110.0|  132.5393157199162|\n",
            "|[20.4,22.0,24.7,5...| 150.0|  165.1235113238822|\n",
            "|[20.5,22.0,24.3,6...| 145.0| 198.88985430949208|\n",
            "|[20.5,22.5,24.0,5...| 130.0| 180.95947242037857|\n",
            "|[20.5,22.5,25.3,7...| 160.0| 181.92498389127252|\n",
            "|[21.1,22.5,25.0,6...| 160.0|  214.9000852603965|\n",
            "|[21.2,23.0,25.8,1...| 200.0|  291.3753054826892|\n",
            "|[22.0,24.0,25.5,7...| 225.0|  262.8153848712118|\n",
            "|[23.0,25.0,28.0,1...| 273.0|  359.5772382050236|\n",
            "|[25.2,27.3,28.7,8...| 300.0| 412.65546488087614|\n",
            "|[26.3,29.0,33.5,1...| 363.0| 434.63854144677487|\n",
            "|[28.5,30.7,36.2,1...| 500.0|  542.2086967135268|\n",
            "|[28.5,31.0,34.0,1...| 540.0|  544.4017140681009|\n",
            "+--------------------+------+-------------------+\n",
            "only showing top 20 rows\n",
            "\n"
          ]
        }
      ]
    },
    {
      "cell_type": "code",
      "source": [
        "#calculate model statistics\n",
        "\n",
        "from pyspark.ml.evaluation import RegressionEvaluator\n",
        "eval = RegressionEvaluator(labelCol=\"Weight\", predictionCol='prediction', metricName='rmse')\n",
        "\n",
        "#root mean square error\n",
        "rmse = eval.evaluate(pred.predictions)\n",
        "print(\"rmse: %.3f\" % rmse)\n",
        "\n",
        "#mean square error\n",
        "mse = eval.evaluate(pred.predictions,{eval.metricName: \"mse\"})\n",
        "print(\"MSE: %.3f\" % mse)\n",
        "\n",
        "#mean absolute error\n",
        "mae = eval.evaluate(pred.predictions,{eval.metricName: \"mae\"})\n",
        "print(\"MAE: %.3f\" % mae)\n",
        "\n",
        "#r2 - coefficient\n",
        "r2 = eval.evaluate(pred.predictions,{eval.metricName: \"r2\"})\n",
        "print(\"r2: %.3f\" % r2)"
      ],
      "metadata": {
        "colab": {
          "base_uri": "https://localhost:8080/"
        },
        "id": "pSXp2iCFOCqp",
        "outputId": "54c5b35c-1615-4ab4-bd0a-b403917911e7"
      },
      "execution_count": null,
      "outputs": [
        {
          "output_type": "stream",
          "name": "stdout",
          "text": [
            "rmse: 103.558\n",
            "MSE: 10724.280\n",
            "MAE: 81.318\n",
            "r2: 0.861\n"
          ]
        }
      ]
    },
    {
      "cell_type": "code",
      "source": [
        ""
      ],
      "metadata": {
        "id": "lir6488CON5p"
      },
      "execution_count": null,
      "outputs": []
    }
  ]
}